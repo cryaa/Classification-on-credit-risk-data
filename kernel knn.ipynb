{
 "cells": [
  {
   "cell_type": "code",
   "execution_count": 1,
   "metadata": {
    "collapsed": true
   },
   "outputs": [],
   "source": [
    "import pandas as pd\n",
    "from sklearn.model_selection import train_test_split\n",
    "import numpy as np\n",
    "from collections import Counter\n",
    "data1 = pd.read_csv('credit_risk_data_balanced.csv')\n",
    "data = data1.iloc[:,1:11]\n",
    "label = data1.iloc[:,0]\n",
    "label = label.astype('category')\n",
    "\n",
    "def Normalization (cluster):\n",
    "    cluster_dim = cluster.shape\n",
    "    cluster_mean = np.mean(cluster,0)\n",
    "    cluster_mean_mat = np.matlib.repmat(cluster_mean,cluster_dim[0],1)\n",
    "    cluster1 = (cluster-cluster_mean_mat)/np.std(cluster) - cluster_mean_mat\n",
    "    return cluster1\n",
    "data = Normalization(data)"
   ]
  },
  {
   "cell_type": "code",
   "execution_count": 2,
   "metadata": {
    "collapsed": true
   },
   "outputs": [],
   "source": [
    "#split the train data and the test data\n",
    "training_data,test_data,training_label,test_label= train_test_split(data,label,test_size = 0.2,random_state = 42)"
   ]
  },
  {
   "cell_type": "code",
   "execution_count": 3,
   "metadata": {
    "collapsed": true
   },
   "outputs": [],
   "source": [
    "idx = 0\n",
    "# can be a list, a Series, an array or a scalar   \n",
    "training_data.insert(loc=idx, column='Delinquency', value=training_label)"
   ]
  },
  {
   "cell_type": "code",
   "execution_count": 4,
   "metadata": {
    "collapsed": true
   },
   "outputs": [],
   "source": [
    "train_data = np.array(training_data)\n",
    "testdata = np.array(test_data)"
   ]
  },
  {
   "cell_type": "code",
   "execution_count": 5,
   "metadata": {
    "collapsed": true
   },
   "outputs": [],
   "source": [
    "import unicodecsv\n",
    "import random\n",
    "import operator\n",
    "import math\n",
    "\n",
    " \n",
    "#KNN prediction and model training\n",
    "def knn_predict(test_data, train_data, k_value):\n",
    "    label_out=[]\n",
    "    for i in test_data:\n",
    "        eu_Distance =[]\n",
    "        knn = []\n",
    "        label = []\n",
    "        \n",
    "        for j in train_data:\n",
    "            #eu_dist = euclideanDist(i, j)\n",
    "            kernel_dist = ((1 + np.dot(i, i)) ** 3)-2*((1 + np.dot(i, j[1:11])) ** 3)+((1 + np.dot(j[1:11], j[1:11])) ** 3)\n",
    "            eu_Distance.append((j[0], kernel_dist))\n",
    "        eu_Distance.sort(key = operator.itemgetter(1))\n",
    "        knn = eu_Distance[:k_value]\n",
    "        sum = 0\n",
    "        for k in knn:\n",
    "            sum += float(k[0])*k[1]\n",
    "        if sum > 0:\n",
    "            label.append('1')\n",
    "        elif sum < 0:\n",
    "            label.append('-1')\n",
    "        else:\n",
    "            label.append('NAN')\n",
    "        label_out.append(label[0])\n",
    "            \n",
    "    return label_out"
   ]
  },
  {
   "cell_type": "code",
   "execution_count": 6,
   "metadata": {
    "collapsed": true
   },
   "outputs": [
    {
     "name": "stdout",
     "output_type": "stream",
     "text": [
      "['1', '-1', '1', '1', '1', '1', '1', '-1', '-1', '-1', '-1', '-1', '-1', '-1', '1', '1', '1', '1', '-1', '-1', '-1', '1', '-1', '1', '-1', '-1', '-1', '-1', '1', '1', '-1', '1', '-1', '-1', '-1', '-1', '-1', '-1', '-1', '-1', '-1', '-1', '1', '1', '1', '-1', '1', '1', '1', '1', '1', '-1', '1', '-1', '-1', '-1', '-1', '-1', '-1', '-1', '-1', '-1', '1', '1', '-1', '-1', '1', '1', '-1', '1', '1', '-1', '1', '-1', '1', '1', '1', '1', '-1', '1', '1', '1', '1', '-1', '1', '-1', '1', '-1', '-1', '1', '-1', '1', '-1', '-1', '1', '-1', '-1', '-1', '1', '1', '-1', '-1', '1', '-1', '-1', '-1', '-1', '1', '-1', '-1', '1', '-1', '-1', '1', '-1', '-1', '1', '-1', '-1', '1', '-1', '1', '1', '1', '-1', '-1', '-1', '-1', '-1', '-1', '1', '-1', '1', '1', '-1', '1', '-1', '1', '-1', '1', '-1', '1', '1', '1', '-1', '-1', '-1', '-1', '1', '-1', '-1', '-1', '-1', '1', '-1', '1', '-1', '1', '-1', '1', '1', '1', '1', '-1', '1', '-1', '-1', '1', '1', '1', '1', '-1', '1', '-1', '1', '-1', '-1', '-1', '-1', '1', '1', '1', '-1', '-1', '-1', '-1', '-1', '1', '-1', '-1', '1', '1', '-1', '1', '1', '1', '-1', '-1', '-1', '-1', '-1', '1', '-1', '1', '-1', '-1', '1', '1', '-1', '-1', '-1', '-1', '-1', '1', '-1', '1', '-1', '-1', '-1', '-1', '1', '-1', '-1', '1', '1', '-1', '-1', '1', '-1', '-1', '1', '-1', '-1', '1', '-1', '1', '-1', '-1', '-1', '1', '1', '-1', '1', '1', '-1', '-1', '-1', '-1', '-1', '1', '-1', '1', '-1', '1', '1', '1', '1', '-1', '1', '1', '1', '-1', '-1', '1', '1', '-1', '-1', '1', '-1', '1', '-1', '-1', '-1', '-1', '-1', '-1', '1', '-1', '1', '-1', '1', '-1', '-1', '-1', '-1', '-1', '-1', '1', '1', '1', '1', '-1', '-1', '-1', '1', '-1', '1', '1', '-1', '-1', '-1', '-1', '-1', '-1', '-1', '1', '-1', '1', '-1', '-1', '-1', '-1', '-1', '-1', '-1', '-1', '1', '-1', '-1', '-1', '1', '-1', '1', '1', '1', '1', '1', '1', '1', '1', '-1', '-1', '-1', '-1', '1', '-1', '-1', '-1', '-1', '-1', '-1', '-1', '-1', '-1', '-1', '1', '1', '1', '1', '1', '1', '-1', '-1', '-1', '-1', '-1', '1', '-1', '1', '-1', '1', '-1', '-1', '-1', '1', '-1', '-1', '1', '1', '1', '1', '1', '-1', '1', '-1', '1', '1', '1', '-1', '-1', '-1', '1', '-1', '-1', '1', '1', '1', '1', '1', '-1', '-1', '1', '1', '-1', '1', '1', '1', '-1', '-1', '1', '-1', '1', '-1', '1', '-1', '-1', '-1', '1', '-1', '-1', '-1', '-1', '1', '-1', '-1', '1', '-1', '-1', '-1', '1', '-1', '-1', '-1', '-1', '1', '1', '-1', '1', '-1', '1', '1', '1', '1', '1', '-1', '-1', '-1', '1', '-1', '1', '-1', '-1', '-1', '-1', '-1', '-1', '-1', '1', '-1', '-1', '-1', '1', '1', '-1', '-1', '1', '-1', '1', '-1', '-1', '1', '1', '-1', '1', '1', '-1', '-1', '1', '-1', '1', '-1', '1', '1', '-1', '-1', '-1', '-1', '1', '1', '-1', '-1', '1', '-1', '-1', '-1', '1', '-1', '-1', '-1', '-1', '-1', '-1', '-1', '-1', '-1', '-1', '-1', '1', '-1', '-1', '1', '-1', '-1', '1', '1', '-1', '-1', '-1', '-1', '-1', '-1', '1', '1', '-1', '1', '-1', '-1', '-1', '-1', '-1', '-1', '-1', '1', '1', '1', '-1', '1', '-1', '1', '-1', '-1', '-1', '-1', '-1', '-1', '-1', '1', '-1', '-1', '-1', '-1', '1', '-1', '1', '-1', '-1', '-1', '1', '1', '-1', '-1', '1', '1', '1', '-1', '-1', '1', '1', '-1', '1', '-1', '1', '-1', '-1', '1', '1', '1', '-1', '1', '-1', '-1', '-1', '-1', '-1', '-1', '-1', '1', '1', '-1', '1', '1', '1', '1', '-1', '-1', '-1', '1', '-1', '-1', '-1', '-1', '-1', '-1', '1', '-1', '-1', '-1', '-1', '-1', '-1', '-1', '-1', '1', '-1', '-1', '-1', '-1', '1', '-1', '-1', '-1', '-1', '-1', '-1', '-1', '-1', '1', '1', '1', '-1', '-1', '-1', '-1', '1', '1', '1', '1', '-1', '-1', '1', '-1', '1', '-1', '-1', '1', '1', '-1', '1', '-1', '-1', '-1', '-1', '1', '-1', '-1', '1', '1', '1', '-1', '1', '-1', '1', '-1', '-1', '1', '1', '-1', '-1', '1', '-1', '-1', '1', '1', '-1', '-1', '-1', '-1', '-1', '-1', '-1', '1', '1', '-1', '1', '1', '-1', '-1', '1', '-1', '1', '1', '-1', '1', '-1', '-1', '1', '-1', '-1', '-1', '-1', '-1', '-1', '-1', '1', '-1', '1', '-1', '1', '1', '1', '-1', '-1', '1', '-1', '1', '-1', '-1', '-1', '-1', '1', '1', '-1', '-1', '1', '-1', '1', '-1', '-1', '-1', '-1', '1', '-1', '-1', '-1', '1', '-1', '1', '1', '-1', '1', '1', '-1', '-1', '1', '1', '-1', '1', '1', '-1', '-1', '-1', '1', '-1', '1', '1', '-1', '1', '1', '-1', '-1', '1', '-1', '-1', '-1', '-1', '1', '1', '1', '-1', '-1', '-1', '-1', '-1', '-1', '-1', '-1', '1', '-1', '1', '-1', '1', '1', '-1', '1', '-1', '-1', '-1', '1', '1', '1', '1', '1', '1', '1', '-1', '-1', '1', '-1', '-1', '-1', '-1', '1', '-1', '-1', '1', '1', '1', '-1', '1', '-1', '-1', '1', '1', '-1', '-1', '-1', '-1', '-1', '1', '-1', '-1', '1', '1', '-1', '1', '-1', '-1', '1', '-1', '1', '-1', '-1', '1', '1', '-1', '-1', '1', '1', '1', '-1', '-1', '1', '1', '-1', '-1', '1', '1', '-1', '1', '-1', '1', '-1', '1', '1', '1', '-1', '-1', '1', '1', '-1', '-1', '-1', '1', '-1', '-1', '-1', '-1', '1', '1', '-1', '1', '1', '1', '-1', '-1', '-1', '1', '-1', '1', '1', '1', '-1', '-1', '-1', '-1', '-1', '1', '-1', '-1', '-1', '1', '-1', '-1', '1', '-1', '1', '-1', '1', '-1', '-1', '-1', '-1', '-1', '-1', '-1', '1', '-1', '-1', '1', '-1', '-1', '-1', '-1', '1', '-1', '1', '-1', '-1', '-1', '1', '1', '1', '1', '-1', '1', '-1', '1', '-1', '1', '-1', '1', '1', '1', '1', '-1', '1', '1', '-1', '-1', '-1', '1', '-1', '-1', '-1', '1', '1', '-1', '-1', '1', '-1', '1', '-1', '1', '-1', '-1', '1', '1', '1', '-1', '1', '-1', '-1', '-1', '-1', '-1', '-1', '-1', '1', '1', '1', '-1', '-1', '-1', '-1', '-1', '-1', '1', '-1', '1', '-1', '-1', '1', '1', '1', '1', '-1', '-1', '-1', '-1', '-1', '1', '-1', '-1', '-1', '1', '1', '-1', '1', '1', '-1', '1', '-1', '1', '1', '-1', '-1', '1', '1', '-1', '-1', '-1', '1', '1', '1', '-1', '1', '1', '-1', '1', '1', '1', '-1', '-1', '-1', '-1', '-1', '1', '-1', '-1', '1', '1', '1', '-1', '-1', '-1', '-1', '1', '1', '1', '-1', '-1', '-1', '-1', '1', '1', '1', '-1', '1', '1', '-1', '-1', '-1', '1', '1', '1', '1', '-1', '1', '-1', '1', '-1', '-1', '-1', '-1', '1', '1', '-1', '-1', '1', '1', '-1', '-1', '1', '1', '1', '-1', '1', '-1', '-1', '-1', '-1', '-1', '-1', '-1', '1', '-1', '1', '-1', '1', '-1', '1', '1', '-1', '-1', '-1', '1', '1', '-1', '-1', '-1', '-1', '-1', '-1', '-1', '1', '-1', '1', '-1', '1', '-1', '-1', '-1', '-1', '1', '-1', '-1', '-1', '1', '1', '1', '1', '1', '-1', '-1', '1', '-1', '-1', '-1', '-1', '-1', '-1', '-1', '-1', '-1', '1', '-1', '-1', '-1', '-1', '-1', '-1', '-1', '1', '-1', '-1', '-1', '1', '-1', '-1', '-1', '-1', '1', '-1', '-1', '-1', '1', '1', '-1', '-1', '-1', '-1', '-1', '1', '-1', '1', '-1', '-1', '1', '1', '1', '-1', '-1', '1', '1', '1', '-1', '1', '1', '-1', '1', '-1', '-1', '-1', '-1', '1', '-1', '-1', '-1', '1', '-1', '1', '-1', '-1', '1', '-1', '-1', '1', '-1', '1', '-1', '1', '1', '1', '-1', '-1', '-1', '-1', '-1', '-1', '-1', '1', '1', '1', '1', '1', '-1', '1', '-1', '-1', '1', '1', '1', '-1', '-1', '1', '1', '1', '1', '1', '1', '-1', '-1', '1', '-1', '-1', '-1', '1', '1', '1', '-1', '-1', '1', '-1', '1', '1', '-1', '1', '-1', '-1', '-1', '-1', '1', '-1', '1', '-1', '1', '-1', '1', '-1', '1', '-1', '1', '1', '1', '1', '-1', '1', '-1', '-1', '1', '-1', '-1', '-1', '1', '1', '1', '1', '-1', '-1', '-1', '-1', '-1', '-1', '1', '-1', '-1', '1', '1', '-1', '-1', '-1', '1', '-1', '-1', '1', '-1', '-1', '-1', '-1', '-1', '-1', '-1', '-1', '-1', '-1', '1', '1', '1', '-1', '-1', '-1', '-1', '1', '-1', '1', '1', '-1', '-1', '-1', '-1', '-1', '-1', '1', '-1', '-1', '1', '1', '1', '-1', '1', '1', '-1', '-1', '1', '-1', '1', '1', '-1', '1', '-1', '-1', '1', '-1', '-1', '-1', '1', '1', '-1', '-1', '-1', '-1', '-1', '-1', '-1', '1', '1', '1', '1', '-1', '-1', '-1', '-1', '-1', '-1', '-1', '1', '1', '-1', '1', '1', '-1', '1', '-1', '1', '-1', '-1', '1', '-1', '1', '1', '1', '-1', '-1', '1', '1', '-1', '-1', '-1', '1', '1', '-1', '1', '-1', '-1', '1', '-1', '1', '-1', '-1', '1', '1', '-1', '-1', '1', '-1', '-1', '1', '-1', '-1', '-1', '-1', '-1', '1', '1', '1', '1', '1', '-1', '-1', '-1', '-1', '1', '-1', '1', '1', '-1', '-1', '1', '-1', '1', '1', '-1', '1', '1', '-1', '-1', '-1', '-1', '1', '-1', '-1', '-1', '-1', '1', '-1', '-1', '1', '-1', '1', '1', '1', '-1', '1', '1', '1', '-1', '-1', '1', '1', '-1', '1', '-1', '-1', '-1', '1', '1', '-1', '-1', '-1', '-1', '1', '1', '-1', '-1', '1', '1', '-1', '-1', '1', '-1', '1', '-1', '-1', '-1', '-1', '1', '1', '-1', '-1', '-1', '1', '1', '-1', '-1', '-1', '-1', '1', '-1', '-1', '-1', '-1', '1', '1', '-1', '-1', '-1', '-1', '1', '1', '-1', '1', '1', '1', '-1', '-1', '-1', '1', '1', '1', '-1', '1', '1', '-1', '-1', '-1', '1', '1', '1', '-1', '-1', '-1', '-1', '1', '1', '-1', '-1', '-1', '1', '-1', '-1', '-1', '1', '1', '-1', '1', '-1', '1', '1', '-1', '1', '-1', '1', '-1', '-1', '-1', '-1', '1', '1', '1', '-1', '1', '1', '-1', '-1', '-1', '-1', '1', '-1', '1', '-1', '-1', '1', '1', '-1', '-1', '-1', '-1', '1', '1', '-1', '-1', '-1', '1', '-1', '-1', '-1', '-1', '-1', '-1', '1', '1', '1', '-1', '-1', '1', '-1', '-1', '-1', '-1', '1', '1', '-1', '-1', '-1', '-1', '-1', '1', '-1', '-1', '-1', '1', '1', '-1', '-1', '-1', '1', '-1', '1', '-1', '1', '-1', '-1', '1', '-1', '-1', '-1', '1', '-1', '-1', '-1', '1', '-1', '-1', '-1', '-1', '1', '-1', '-1', '-1', '-1', '1', '-1', '-1', '-1', '1', '1', '1', '-1', '-1', '1', '1', '-1', '-1', '-1', '1', '1', '-1', '-1', '-1', '1', '-1', '1', '-1', '1', '-1', '1', '1', '1', '-1', '-1', '1', '-1', '1', '1', '-1', '-1', '-1', '1', '-1', '1', '-1', '-1', '-1', '-1', '-1', '-1', '-1', '1', '1', '-1', '-1', '-1', '1', '1', '-1', '-1', '-1', '1', '-1', '1', '-1', '-1', '-1', '-1', '1', '-1', '1', '1', '-1', '1', '-1', '-1', '-1', '1', '1', '-1', '-1', '1', '1', '-1', '-1', '-1', '-1', '-1', '-1', '-1', '1', '-1', '-1', '1', '-1', '1', '1', '1', '-1', '-1', '1', '-1', '-1', '-1', '1', '-1', '-1', '1', '-1', '-1', '-1', '1', '-1', '1', '1', '-1', '1', '1', '-1', '1', '1', '1', '1', '-1', '1', '1', '1', '-1', '1', '-1', '1', '1', '1', '-1', '-1', '-1', '1', '-1', '-1', '-1', '-1', '1', '-1', '1', '1', '-1', '-1', '1', '-1', '-1', '-1', '-1', '1', '-1', '1', '-1', '-1', '1', '-1', '-1', '-1', '1', '-1', '-1', '-1', '-1', '1', '1', '-1', '-1', '1', '-1', '-1', '-1', '-1', '1', '-1', '-1', '1', '1', '-1', '-1', '-1', '1', '-1', '1', '-1', '-1', '-1', '-1', '-1', '1', '-1', '-1', '-1', '-1', '1', '1', '-1', '-1', '1', '1', '1', '1', '-1', '-1', '1', '1', '1', '1', '1', '1', '1', '1', '-1', '1', '-1', '-1', '1', '1', '-1', '-1', '-1', '-1', '-1', '1', '-1', '1', '-1', '-1', '1', '1', '-1', '1', '-1', '1', '1', '-1', '-1', '-1', '-1', '1', '-1', '-1', '-1', '1', '1', '1', '-1', '-1', '-1', '1', '-1', '1', '1', '-1', '1', '1', '1', '1', '1', '-1', '-1', '-1', '1', '-1', '1', '1', '1', '-1', '-1', '-1', '-1', '1', '1', '-1', '1', '1', '-1', '-1', '-1', '-1', '-1', '-1', '-1', '1', '1', '-1', '-1', '1', '-1', '1', '1', '1', '1', '-1', '1', '-1', '1', '1', '-1', '1', '1', '-1', '-1', '-1', '-1', '1', '1', '-1', '-1', '-1', '-1', '-1', '-1', '1', '1', '1', '-1', '1', '1', '1', '1', '1', '1', '-1', '-1', '1', '1', '-1', '1', '-1', '-1', '1', '-1', '-1', '1', '-1', '-1', '1', '1', '1', '-1', '-1', '-1', '-1', '-1', '1', '1', '-1', '-1', '1', '-1', '-1', '-1', '1', '1', '-1', '-1', '-1', '-1', '1', '1', '-1', '-1', '1', '-1', '-1', '1', '-1', '1', '-1', '-1', '-1', '-1', '-1', '1', '-1', '-1', '1', '-1', '-1', '-1', '1', '-1', '-1', '-1', '-1', '1', '-1', '1', '1', '1', '1', '-1', '1', '-1', '1', '-1', '1', '1', '1', '-1', '1', '-1', '-1', '1', '-1', '1', '-1', '1', '-1', '-1', '1', '-1', '1', '-1', '-1', '-1', '-1', '1', '-1', '-1', '-1', '-1', '-1', '-1', '1', '1', '-1', '1', '1', '1', '1', '1', '-1', '-1', '-1', '-1', '-1', '1', '-1', '1', '1', '-1', '1', '1', '-1', '1', '-1', '-1', '-1', '1', '1', '-1', '1', '-1', '1', '-1', '-1', '1', '-1', '-1', '1', '1', '-1', '1', '-1', '1', '1', '-1', '-1', '-1', '1', '-1', '1', '-1', '-1', '1', '-1', '1', '1', '-1', '-1', '-1', '1', '1', '1', '-1', '-1', '-1', '1', '1', '1', '1', '1', '1', '-1', '-1', '-1', '-1', '1', '-1', '-1', '1', '1', '-1', '1', '-1', '1', '1', '1', '1', '-1', '-1', '-1', '-1', '1', '1', '1', '-1', '-1', '-1', '-1', '-1', '-1', '-1', '-1', '-1', '-1', '1', '1', '-1', '1', '-1', '-1', '1', '-1', '1', '-1', '-1', '1', '1', '1', '-1', '-1', '-1', '1', '-1', '-1', '-1', '1', '-1', '-1', '1', '-1', '-1', '-1', '-1', '-1', '-1', '-1', '-1', '-1', '1', '1', '1', '-1', '-1', '1', '1', '-1', '-1', '-1', '1', '1', '-1', '1', '1', '-1', '-1', '-1', '1', '-1', '-1', '-1', '1', '1', '-1', '1', '-1', '1', '1', '-1', '-1', '-1', '1', '-1', '1', '1', '1', '-1', '-1', '-1', '1', '-1', '1', '-1', '-1', '-1', '1', '-1', '1', '-1', '-1', '1', '1', '-1', '-1', '1', '-1', '-1', '1', '-1', '-1', '1', '-1', '-1', '-1', '-1', '1', '-1', '1', '1', '-1', '-1', '1', '1', '-1', '-1', '1', '-1', '-1', '1', '-1', '-1', '-1', '1', '-1', '-1', '1', '-1', '1', '1', '-1', '-1', '1', '-1', '-1', '-1', '-1', '1', '1', '-1', '1', '1', '-1', '1', '-1', '-1', '1', '-1', '-1', '-1', '-1', '-1', '-1', '-1', '1', '1', '1', '-1', '-1', '-1', '-1', '-1', '1', '-1', '1', '1', '-1', '-1', '1', '1', '-1', '-1', '-1', '-1', '-1', '1', '-1', '-1', '-1', '1', '-1', '1', '1', '-1', '-1', '1', '-1', '1', '-1', '-1', '-1', '-1', '-1', '-1', '1', '1', '-1', '1', '-1', '-1', '1', '1', '-1', '-1', '-1', '1', '-1', '-1', '1', '-1', '-1', '-1', '1', '1', '-1', '-1', '1', '-1', '-1', '-1', '-1', '-1', '1', '-1', '1', '-1', '-1', '-1', '1', '-1', '1', '-1', '-1', '-1', '1', '1', '-1', '-1', '-1', '1', '-1', '-1', '1', '-1', '-1', '1', '1', '-1', '-1', '-1', '-1', '1', '1', '1', '1', '-1', '1', '1', '1', '-1', '1', '-1', '-1', '1', '-1', '-1', '-1', '-1', '-1', '1', '1', '1', '1', '1', '1', '-1', '-1', '1', '1', '-1', '1', '1', '-1', '-1', '-1', '1', '-1', '-1', '1', '-1', '-1', '1', '1', '-1', '-1', '1', '-1', '-1', '-1', '1', '1', '1', '-1', '1', '-1', '-1', '1', '1', '1', '1', '1', '-1', '1', '-1', '-1', '-1', '1', '1', '1', '1', '-1', '1', '1', '-1', '-1', '1', '1', '-1', '1', '1', '-1', '-1', '-1', '1', '-1', '-1', '1', '1', '-1', '-1', '1', '-1', '1', '-1', '1', '-1', '1', '1', '-1', '-1', '1', '-1', '-1', '-1', '1', '-1', '-1', '-1', '-1', '1', '1', '1', '1', '1', '-1', '-1', '-1', '1', '1', '-1', '-1', '-1', '1', '-1', '-1', '-1', '-1', '-1', '-1', '-1', '-1', '-1', '-1', '-1', '-1', '1', '-1', '-1', '1', '-1', '-1', '-1', '-1', '-1', '1', '1', '1', '-1', '-1', '-1', '1', '-1', '-1', '1', '1', '-1', '-1', '-1', '-1', '1', '-1', '-1', '1', '-1', '-1', '-1', '-1', '1', '-1', '1', '-1', '-1', '1', '1', '-1', '1', '1', '-1', '-1', '1', '-1', '1', '1', '-1', '-1', '-1', '-1', '1', '-1', '1', '-1', '-1', '-1', '-1', '-1', '1', '-1', '-1', '-1', '-1', '1', '1', '-1', '1', '-1', '-1', '-1', '1', '-1', '-1', '1', '-1', '-1', '1', '1', '-1', '1', '-1', '1', '1', '-1', '1', '-1', '-1', '1', '-1', '-1', '-1', '1', '-1', '1', '-1', '1', '1', '-1', '1', '-1', '-1', '-1', '-1', '1', '1', '-1', '-1', '-1', '1', '-1', '-1', '1', '1', '1', '-1', '1', '-1', '1', '1', '1', '1', '-1', '-1', '1', '1', '1', '1', '-1', '1', '1', '-1', '-1', '1', '1', '1', '-1', '1', '-1', '1', '1', '-1', '1', '-1', '1', '-1', '-1', '1', '1', '1', '-1', '-1', '-1', '1', '1', '1', '1', '-1', '-1', '-1', '1', '1', '-1', '1', '1', '-1', '-1', '1', '1', '-1', '1', '-1', '-1', '1', '1', '-1', '-1', '1', '1', '1', '1', '1', '-1', '1', '1', '1', '-1', '-1', '-1', '1', '-1', '-1', '1', '-1', '1', '-1', '1', '1', '-1', '-1', '1', '-1', '1', '-1', '1', '-1', '1', '1', '1', '-1', '-1', '-1', '1', '1', '1', '1', '1', '-1', '-1', '1', '1', '-1', '-1', '1', '-1', '1', '1', '-1', '-1', '-1', '-1', '1', '1', '-1', '-1', '1', '1', '-1', '1', '1', '-1', '-1', '-1', '-1', '-1', '1', '-1', '1', '1', '1', '-1', '-1', '-1', '1', '-1', '-1', '-1', '-1', '-1', '-1', '-1', '1', '-1', '-1', '-1', '1', '-1', '1', '-1', '1', '-1', '1', '1', '-1', '1', '-1', '-1', '-1', '1', '-1', '-1', '-1', '1', '1', '-1', '1', '1', '1', '1', '-1', '1', '-1', '-1', '-1', '1', '-1', '1', '-1', '-1', '-1', '-1', '-1', '1', '1', '-1', '1', '-1', '1', '1', '-1', '-1', '-1', '1', '1', '1', '-1', '-1', '-1', '-1', '-1', '-1', '1', '-1', '1', '1', '-1', '-1', '-1', '1', '-1', '-1', '-1', '-1', '-1', '-1', '-1', '1', '-1', '1', '-1', '-1', '-1', '-1', '1', '1', '-1', '1', '-1', '-1', '-1', '1', '1', '1', '-1', '-1', '-1', '1', '-1', '1', '1', '1', '-1', '-1', '1', '1', '-1', '-1', '1', '-1', '1', '-1', '-1', '1', '-1', '1', '1', '-1', '1', '-1', '-1', '-1', '1', '1', '-1', '-1', '-1', '-1', '-1', '1', '-1', '1', '-1', '1', '-1', '1', '1', '1', '-1', '-1', '1', '1', '-1', '-1', '-1', '-1', '1', '-1', '1', '-1', '1', '1', '-1', '1', '-1', '1', '1', '-1', '1', '-1', '-1', '-1', '-1', '-1', '-1', '1', '-1', '-1', '-1', '-1', '-1', '1', '-1', '-1', '-1', '-1', '-1', '-1', '1', '-1', '-1', '1', '1', '-1', '-1', '-1', '-1', '-1', '1', '1', '-1', '1', '-1', '1', '1', '1', '1', '-1', '1', '-1', '1', '1', '1', '-1', '-1', '-1', '1', '-1', '-1', '1', '-1', '-1', '1', '-1', '-1', '-1', '-1', '1', '-1', '-1', '-1', '1', '1', '-1', '-1', '-1', '1', '1', '-1', '-1', '-1', '-1', '-1', '-1', '-1', '-1', '1', '1', '1', '-1', '-1', '-1', '-1', '-1', '-1', '-1', '1', '-1', '-1', '-1', '-1', '-1', '-1', '-1', '1', '-1', '-1', '-1', '1', '-1', '1', '-1', '1', '-1', '1', '-1', '-1', '-1', '-1', '1', '1', '1', '-1', '-1', '1', '1', '-1', '1', '1', '1', '-1', '-1', '-1', '-1', '1', '1', '-1', '-1', '-1', '-1', '1', '1', '-1', '1', '-1', '-1', '-1', '1', '1', '-1', '1', '-1', '-1', '-1', '1', '-1', '1', '-1', '-1', '-1', '-1', '1', '-1', '1', '-1', '-1', '-1', '1', '-1', '-1', '-1', '-1', '-1', '1', '-1', '-1', '1', '1', '-1', '-1', '1', '-1', '1', '1', '-1', '-1', '-1', '-1', '1', '1', '1', '-1', '-1', '-1', '-1', '-1', '1', '1', '-1', '1', '1', '1', '1', '-1', '-1', '1', '-1', '-1', '1', '-1', '-1', '-1', '-1', '1', '-1', '1', '-1', '-1', '-1', '1', '1', '1', '-1', '1', '-1', '-1', '1', '1', '1', '1', '1', '-1', '-1', '-1', '1', '1', '1', '-1', '-1', '-1', '1', '1', '-1', '-1', '1', '1', '-1', '-1', '1', '1', '1', '-1', '1', '-1', '-1', '-1', '1', '1', '1', '1', '1', '1', '-1', '-1', '1', '1', '-1', '1', '1', '-1', '-1', '-1', '-1', '-1', '-1', '-1', '-1', '-1', '-1', '-1', '-1', '-1', '-1', '-1', '-1', '1', '-1', '-1', '-1', '-1', '1', '-1', '-1', '-1', '1', '-1', '1', '1', '-1', '1', '-1', '1', '1', '1', '-1', '-1', '1', '1', '-1', '-1', '-1', '1', '1', '1', '1', '1', '-1', '1', '1', '-1', '-1', '1', '-1', '1', '1', '-1', '-1', '-1', '1', '1', '1', '-1', '-1', '-1', '-1', '1', '1', '-1', '1', '1', '-1', '-1', '-1', '1', '-1', '-1', '-1', '1', '1', '-1', '-1', '-1', '-1', '1', '1', '-1', '-1', '-1', '-1', '-1', '1', '-1', '-1', '1', '-1', '1', '1', '1', '1', '1', '-1', '-1', '-1', '1', '-1', '-1', '-1', '1', '1', '-1', '-1', '-1', '1', '1', '-1', '-1', '-1', '-1', '-1', '1', '-1', '-1', '1', '-1', '-1', '-1', '-1', '1']\n"
     ]
    }
   ],
   "source": [
    "K = 7                                          # Assumed K value\n",
    "pred_label = knn_predict(testdata, train_data, K)\n",
    "print(pred_label)"
   ]
  },
  {
   "cell_type": "code",
   "execution_count": 20,
   "metadata": {
    "collapsed": true
   },
   "outputs": [],
   "source": [
    "pred_label = pred_label.astype(np.int64)"
   ]
  },
  {
   "cell_type": "code",
   "execution_count": 22,
   "metadata": {
    "collapsed": true
   },
   "outputs": [],
   "source": [
    "# six classification measures\n",
    "import numpy as np \n",
    "import math\n",
    "\n",
    "def compute_measure(predicted_label,true_label):\n",
    "    t_idx = (predicted_label == true_label)# truely predicted\n",
    "    f_idx = np.logical_not(t_idx)# falsely predicted\n",
    "    \n",
    "    p_idx = (true_label > 0) #positive targets\n",
    "    n_idx = np.logical_not(p_idx)#negative targets\n",
    "    tp = np.sum(np.logical_and(t_idx,p_idx))# TP\n",
    "    tn = np.sum(np.logical_and(t_idx,n_idx))# TN\n",
    "    # false positive:original negative but classified as postive\n",
    "    #false negative:original positive but classified as negative\n",
    "    fp = np.sum(n_idx)-tn\n",
    "    fn = np.sum(p_idx)-tp\n",
    "    tp_fp_tn_list = []\n",
    "    tp_fp_tn_list.append(tp)\n",
    "    tp_fp_tn_list.append(fp)\n",
    "    tp_fp_tn_list.append(tn)\n",
    "    tp_fp_tn_list.append(fn)\n",
    "    tp_fp_tn_list = np.array(tp_fp_tn_list)\n",
    "    tp = tp_fp_tn_list[0]\n",
    "    fp = tp_fp_tn_list[1]\n",
    "    tn = tp_fp_tn_list[2]\n",
    "    fn = tp_fp_tn_list[3]\n",
    "    \n",
    "    with np.errstate(divide = 'ignore'):\n",
    "        sen = (1.0*tp)/(tp+fn)\n",
    "    with np.errstate(divide = 'ignore'):\n",
    "        spc = (1.0*tn)/(tn+fp)\n",
    "    with np.errstate(divide = 'ignore'):\n",
    "        ppr = (1.0*tp)/(tp+fp)\n",
    "    with np.errstate(divide = 'ignore'):\n",
    "        npr = (1.0*tn)/(tn+fn)\n",
    "    \n",
    "        F1_score = float(2*tp)/(2*tp+fp+fn)\n",
    "        acc = (tp+tn)*1.0/(tp+fp+tn+fn)\n",
    "        mcc = (tp*tn-fp*fn)/math.sqrt((tp+fp)*(tp+fn)*(tn+fp)*(tn+fn))\n",
    "        \n",
    "        ans=[]\n",
    "        ans.append(acc)\n",
    "        ans.append(sen)\n",
    "        ans.append(spc)\n",
    "        ans.append(ppr)\n",
    "        ans.append(npr)\n",
    "        ans.append(mcc)\n",
    "        ans.append(F1_score)\n",
    "    return ans"
   ]
  },
  {
   "cell_type": "code",
   "execution_count": 23,
   "metadata": {
    "collapsed": true
   },
   "outputs": [],
   "source": [
    "ans = compute_measure(pred_label,test_label)"
   ]
  },
  {
   "cell_type": "code",
   "execution_count": 34,
   "metadata": {},
   "outputs": [
    {
     "name": "stdout",
     "output_type": "stream",
     "text": [
      "This is the accuracy of kernel KNN model:  0.62189650015\n",
      "This is the sensitivy of kernel KNN model:  0.53528708134\n",
      "This is the specificity of kernel KNN model: 0.70855774985\n",
      "This is the positive predictive ratios of kernel KNN model: 0.647612156295\n",
      "This is the negative predictive ratios of kernel KNN model: 0.603773584906\n",
      "This is the mcc of kernel KNN model: 0.247586578042\n",
      "This is the F1 scores of the kernel KNN model: 0.586116568435\n"
     ]
    }
   ],
   "source": [
    "print('This is the accuracy of kernel KNN model:  '+ str(ans[0]))\n",
    "print('This is the sensitivy of kernel KNN model:  '+ str(ans[1]))\n",
    "print('This is the specificity of kernel KNN model: '+ str(ans[2]))\n",
    "print('This is the positive predictive ratios of kernel KNN model: '+ str(ans[3]))\n",
    "print('This is the negative predictive ratios of kernel KNN model: '+ str(ans[4]))\n",
    "print('This is the mcc of kernel KNN model: '+ str(ans[5]))\n",
    "print('This is the F1 scores of the kernel KNN model: '+ str(ans[6]))"
   ]
  },
  {
   "cell_type": "code",
   "execution_count": 35,
   "metadata": {},
   "outputs": [
    {
     "name": "stdout",
     "output_type": "stream",
     "text": [
      "             precision    recall  f1-score   support\n",
      "\n",
      "Good credit       0.60      0.71      0.65      1671\n",
      " Bad credit       0.65      0.54      0.59      1672\n",
      "\n",
      "avg / total       0.63      0.62      0.62      3343\n",
      "\n"
     ]
    }
   ],
   "source": [
    "from sklearn.metrics import classification_report\n",
    "y_true = test_label.tolist()\n",
    "y_pred = pred_label.tolist()\n",
    "target_names = ['Good credit', 'Bad credit']\n",
    "print(classification_report(y_true, y_pred, target_names = target_names))"
   ]
  },
  {
   "cell_type": "code",
   "execution_count": 36,
   "metadata": {
    "collapsed": true
   },
   "outputs": [],
   "source": [
    "from sklearn import metrics\n",
    "fpr, tpr, threshold = metrics.roc_curve(test_label, pred_label)\n",
    "roc_auc = metrics.auc(fpr, tpr)"
   ]
  },
  {
   "cell_type": "code",
   "execution_count": 37,
   "metadata": {},
   "outputs": [
    {
     "data": {
      "image/png": "[encoded data removed]",
      "text/plain": [
       "<matplotlib.figure.Figure at 0x10ebb4fd0>"
      ]
     },
     "metadata": {},
     "output_type": "display_data"
    }
   ],
   "source": [
    "import matplotlib.pyplot as plt\n",
    "plt.title('Receiver Operating Characteristic')\n",
    "plt.plot(fpr, tpr, 'b', label = 'AUC = %0.2f' % roc_auc)\n",
    "plt.legend(loc = 'lower right')\n",
    "plt.plot([0, 1], [0, 1],'r--')\n",
    "plt.xlim([0, 1])\n",
    "plt.ylim([0, 1])\n",
    "plt.ylabel('True Positive Rate')\n",
    "plt.xlabel('False Positive Rate')\n",
    "plt.show()"
   ]
  },
  {
   "cell_type": "code",
   "execution_count": null,
   "metadata": {
    "collapsed": true
   },
   "outputs": [],
   "source": []
  }
 ],
 "metadata": {
  "kernelspec": {
   "display_name": "Python 2",
   "language": "python",
   "name": "python2"
  },
  "language_info": {
   "codemirror_mode": {
    "name": "ipython",
    "version": 2
   },
   "file_extension": ".py",
   "mimetype": "text/x-python",
   "name": "python",
   "nbconvert_exporter": "python",
   "pygments_lexer": "ipython2",
   "version": "2.7.14"
  }
 },
 "nbformat": 4,
 "nbformat_minor": 2
}
