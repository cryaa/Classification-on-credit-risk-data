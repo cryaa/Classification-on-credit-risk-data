{
 "cells": [
  {
   "cell_type": "code",
   "execution_count": 1,
   "metadata": {
    "collapsed": true
   },
   "outputs": [],
   "source": [
    "import pandas as pd\n",
    "from sklearn.model_selection import train_test_split\n",
    "import numpy as np\n",
    "from collections import Counter\n",
    "data1 = pd.read_csv('credit_risk_data_balanced.csv')\n",
    "data = data1.iloc[:,1:11]\n",
    "def Normalization (cluster):\n",
    "    cluster_dim = cluster.shape\n",
    "    cluster_mean = np.mean(cluster,0)\n",
    "    cluster_mean_mat = np.matlib.repmat(cluster_mean,cluster_dim[0],1)\n",
    "    cluster1 = (cluster-cluster_mean_mat)/np.std(cluster) - cluster_mean_mat\n",
    "    return cluster1\n",
    "data = Normalization(data)\n",
    "#split the train data and the test data\n",
    "label = data1.iloc[:,0]\n",
    "label = label.astype('category')\n",
    "training_data,test_data,training_label,test_label= train_test_split(data,label,test_size = 0.2,random_state = 42)"
   ]
  },
  {
   "cell_type": "code",
   "execution_count": 2,
   "metadata": {
    "collapsed": true
   },
   "outputs": [],
   "source": [
    "#Performance of KNN\n",
    "from sklearn.neighbors import KNeighborsClassifier\n",
    "kNN = KNeighborsClassifier(n_neighbors = 1)\n",
    "#fit training_data into KNN\n",
    "kNN.fit(training_data,training_label)\n",
    "predicted_label = kNN.predict(test_data)"
   ]
  },
  {
   "cell_type": "code",
   "execution_count": 9,
   "metadata": {},
   "outputs": [],
   "source": [
    "test_label = np.array(test_label)"
   ]
  },
  {
   "cell_type": "code",
   "execution_count": 10,
   "metadata": {
    "collapsed": true
   },
   "outputs": [],
   "source": [
    "# six classification measures\n",
    "import numpy as np \n",
    "import math\n",
    "\n",
    "def compute_measure(predicted_label,true_label):\n",
    "    t_idx = (predicted_label == true_label)# truely predicted\n",
    "    f_idx = np.logical_not(t_idx)# falsely predicted\n",
    "    \n",
    "    p_idx = (true_label > 0) #positive targets\n",
    "    n_idx = np.logical_not(p_idx)#negative targets\n",
    "    tp = np.sum(np.logical_and(t_idx,p_idx))# TP\n",
    "    tn = np.sum(np.logical_and(t_idx,n_idx))# TN\n",
    "    # false positive:original negative but classified as postive\n",
    "    #false negative:original positive but classified as negative\n",
    "    fp = np.sum(n_idx)-tn\n",
    "    fn = np.sum(p_idx)-tp\n",
    "    tp_fp_tn_list = []\n",
    "    tp_fp_tn_list.append(tp)\n",
    "    tp_fp_tn_list.append(fp)\n",
    "    tp_fp_tn_list.append(tn)\n",
    "    tp_fp_tn_list.append(fn)\n",
    "    tp_fp_tn_list = np.array(tp_fp_tn_list)\n",
    "    tp = tp_fp_tn_list[0]\n",
    "    fp = tp_fp_tn_list[1]\n",
    "    tn = tp_fp_tn_list[2]\n",
    "    fn = tp_fp_tn_list[3]\n",
    "    \n",
    "    with np.errstate(divide = 'ignore'):\n",
    "        sen = (1.0*tp)/(tp+fn)\n",
    "    with np.errstate(divide = 'ignore'):\n",
    "        spc = (1.0*tn)/(tn+fp)\n",
    "    with np.errstate(divide = 'ignore'):\n",
    "        ppr = (1.0*tp)/(tp+fp)\n",
    "    with np.errstate(divide = 'ignore'):\n",
    "        npr = (1.0*tn)/(tn+fn)\n",
    "    \n",
    "        F1_score = float(2*tp)/(2*tp+fp+fn)\n",
    "        acc = (tp+tn)*1.0/(tp+fp+tn+fn)\n",
    "        mcc = (tp*tn-fp*fn)/math.sqrt((tp+fp)*(tp+fn)*(tn+fp)*(tn+fn))\n",
    "        \n",
    "        ans=[]\n",
    "        ans.append(acc)\n",
    "        ans.append(sen)\n",
    "        ans.append(spc)\n",
    "        ans.append(ppr)\n",
    "        ans.append(npr)\n",
    "        ans.append(mcc)\n",
    "        ans.append(F1_score)\n",
    "    return ans"
   ]
  },
  {
   "cell_type": "code",
   "execution_count": 11,
   "metadata": {},
   "outputs": [
    {
     "name": "stdout",
     "output_type": "stream",
     "text": [
      "This is the accuracy of kernel KNN model:  0.604546814239\n",
      "This is the sensitivy of kernel KNN model:  0.546052631579\n",
      "This is the specificity of kernel KNN model: 0.663076002394\n",
      "This is the positive predictive ratios of kernel KNN model: 0.618563685637\n",
      "This is the negative predictive ratios of kernel KNN model: 0.593465452598\n",
      "This is the mcc of kernel KNN model: 0.210573892117\n",
      "This is the F1 scores of the kernel KNN model: 0.580050825921\n"
     ]
    }
   ],
   "source": [
    "ans = compute_measure(predicted_label,test_label)\n",
    "print('This is the accuracy of kernel KNN model:  '+ str(ans[0]))\n",
    "print('This is the sensitivy of kernel KNN model:  '+ str(ans[1]))\n",
    "print('This is the specificity of kernel KNN model: '+ str(ans[2]))\n",
    "print('This is the positive predictive ratios of kernel KNN model: '+ str(ans[3]))\n",
    "print('This is the negative predictive ratios of kernel KNN model: '+ str(ans[4]))\n",
    "print('This is the mcc of kernel KNN model: '+ str(ans[5]))\n",
    "print('This is the F1 scores of the kernel KNN model: '+ str(ans[6]))"
   ]
  },
  {
   "cell_type": "code",
   "execution_count": 12,
   "metadata": {},
   "outputs": [
    {
     "name": "stdout",
     "output_type": "stream",
     "text": [
      "             precision    recall  f1-score   support\n",
      "\n",
      "Good credit       0.59      0.66      0.63      1671\n",
      " Bad credit       0.62      0.55      0.58      1672\n",
      "\n",
      "avg / total       0.61      0.60      0.60      3343\n",
      "\n"
     ]
    }
   ],
   "source": [
    "from sklearn.metrics import classification_report\n",
    "y_true = test_label.tolist()\n",
    "y_pred = predicted_label.tolist()\n",
    "target_names = ['Good credit', 'Bad credit']\n",
    "print(classification_report(y_true, y_pred, target_names = target_names))"
   ]
  },
  {
   "cell_type": "code",
   "execution_count": 10,
   "metadata": {
    "collapsed": true
   },
   "outputs": [],
   "source": [
    "from sklearn import metrics\n",
    "fpr, tpr, threshold = metrics.roc_curve(test_label, predicted_label)\n",
    "roc_auc = metrics.auc(fpr, tpr)"
   ]
  },
  {
   "cell_type": "code",
   "execution_count": 13,
   "metadata": {},
   "outputs": [
    {
     "data": {
      "image/png": "[encoded data removed]",
      "text/plain": [
       "<matplotlib.figure.Figure at 0x10ba29790>"
      ]
     },
     "metadata": {},
     "output_type": "display_data"
    }
   ],
   "source": [
    "import matplotlib.pyplot as plt\n",
    "plt.title('Receiver Operating Characteristic')\n",
    "plt.plot(fpr, tpr, 'b', label = 'AUC = %0.2f' % roc_auc)\n",
    "plt.legend(loc = 'lower right')\n",
    "plt.plot([0, 1], [0, 1],'r--')\n",
    "plt.xlim([0, 1])\n",
    "plt.ylim([0, 1])\n",
    "plt.ylabel('True Positive Rate')\n",
    "plt.xlabel('False Positive Rate')\n",
    "plt.show()"
   ]
  },
  {
   "cell_type": "code",
   "execution_count": null,
   "metadata": {
    "collapsed": true
   },
   "outputs": [],
   "source": []
  }
 ],
 "metadata": {
  "kernelspec": {
   "display_name": "Python 2",
   "language": "python",
   "name": "python2"
  },
  "language_info": {
   "codemirror_mode": {
    "name": "ipython",
    "version": 2
   },
   "file_extension": ".py",
   "mimetype": "text/x-python",
   "name": "python",
   "nbconvert_exporter": "python",
   "pygments_lexer": "ipython2",
   "version": "2.7.14"
  }
 },
 "nbformat": 4,
 "nbformat_minor": 2
}
